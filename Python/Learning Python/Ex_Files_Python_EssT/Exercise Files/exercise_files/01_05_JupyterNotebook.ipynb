{
 "cells": [
  {
   "cell_type": "markdown",
   "id": "62ce1d82",
   "metadata": {},
   "source": [
    "# Title\n",
    "## Smaller Title"
   ]
  },
  {
   "cell_type": "markdown",
   "id": "12d15452",
   "metadata": {},
   "source": [
    "\\begin{equation}\n",
    "e^x=\\sum_{i=0}^\\infty \\frac{1}{i!}x^i\n",
    "\\end{equation}"
   ]
  },
  {
   "cell_type": "code",
   "execution_count": 2,
   "id": "ab0b33ee",
   "metadata": {},
   "outputs": [
    {
     "name": "stdout",
     "output_type": "stream",
     "text": [
      "Doing some data science!\n"
     ]
    }
   ],
   "source": [
    "print('Doing some data science!')"
   ]
  },
  {
   "cell_type": "code",
   "execution_count": 1,
   "id": "70df0832",
   "metadata": {},
   "outputs": [
    {
     "name": "stdout",
     "output_type": "stream",
     "text": [
      "2\n"
     ]
    }
   ],
   "source": [
    "print(1 + 1)"
   ]
  },
  {
   "cell_type": "code",
   "execution_count": 5,
   "id": "a3a3b121-28b2-438e-8951-7d2994debfd9",
   "metadata": {},
   "outputs": [],
   "source": [
    "name = \"Taofeek\""
   ]
  },
  {
   "cell_type": "code",
   "execution_count": 12,
   "id": "fd04c893-03c8-4c90-b483-1b974bf02876",
   "metadata": {},
   "outputs": [
    {
     "data": {
      "text/plain": [
       "str"
      ]
     },
     "execution_count": 12,
     "metadata": {},
     "output_type": "execute_result"
    }
   ],
   "source": [
    "type(name)"
   ]
  },
  {
   "cell_type": "code",
   "execution_count": 22,
   "id": "b4f6b534-ee21-4a31-8cc7-186bffc13f8f",
   "metadata": {},
   "outputs": [],
   "source": [
    "my_dictionary = {\n",
    "'apple': 'A red fruit',\n",
    "'bear' : 'A scary animal'\n",
    "}"
   ]
  },
  {
   "cell_type": "code",
   "execution_count": 23,
   "id": "849f8bbb-d809-4232-88a3-da531917be3e",
   "metadata": {},
   "outputs": [
    {
     "data": {
      "text/plain": [
       "'A red fruit'"
      ]
     },
     "execution_count": 23,
     "metadata": {},
     "output_type": "execute_result"
    }
   ],
   "source": [
    "my_dictionary['apple']"
   ]
  },
  {
   "cell_type": "code",
   "execution_count": 32,
   "id": "46a37661-f8b8-477b-8ef2-1dcf00138c36",
   "metadata": {},
   "outputs": [
    {
     "name": "stdout",
     "output_type": "stream",
     "text": [
      "else is what happened if the statement is false\n",
      " This is not part of if statement and will always be printed since its not indented\n"
     ]
    }
   ],
   "source": [
    "a = False\n",
    "b = True\n",
    "if a:\n",
    "    print ('It is true!')\n",
    "    print('Also print this')\n",
    "    if b:\n",
    "        print('Both are true')\n",
    "else:\n",
    "    print('else is what happened if the statement is false')\n",
    "print(' This is not part of if statement and will always be printed since its not indented')"
   ]
  },
  {
   "cell_type": "code",
   "execution_count": 34,
   "id": "895c6a53-839a-4ce4-9a35-4c0566cc66f4",
   "metadata": {},
   "outputs": [
    {
     "name": "stdout",
     "output_type": "stream",
     "text": [
      "1\n",
      "2\n",
      "3\n",
      "5\n"
     ]
    }
   ],
   "source": [
    "a = [1,2,3,5]\n",
    "for numbers in a:\n",
    "    print(numbers)"
   ]
  },
  {
   "cell_type": "code",
   "execution_count": 37,
   "id": "bea45f04-188c-48c1-b4ca-9567a9cc42be",
   "metadata": {},
   "outputs": [
    {
     "data": {
      "text/plain": [
       "12"
      ]
     },
     "execution_count": 37,
     "metadata": {},
     "output_type": "execute_result"
    }
   ],
   "source": [
    "def MultiplyByThree(val):\n",
    "    return 3 * val\n",
    "MultiplyByThree(4)"
   ]
  },
  {
   "cell_type": "code",
   "execution_count": 57,
   "id": "c170d2fc-7d89-4496-b859-e17c5d274564",
   "metadata": {},
   "outputs": [],
   "source": [
    "class Dog: \n",
    "    def __init__(self, name):\n",
    "        self.name = name\n",
    "        self.legs = 4\n",
    "        \n",
    "    def speak(self):\n",
    "        print(self.name +  ' says:Bark!')"
   ]
  },
  {
   "cell_type": "code",
   "execution_count": 61,
   "id": "a5849ead-9ae4-4ca1-b08b-181049606715",
   "metadata": {},
   "outputs": [],
   "source": [
    "my_dog = Dog('Rover')\n",
    "another_dog = Dog('Bingo')"
   ]
  },
  {
   "cell_type": "code",
   "execution_count": 62,
   "id": "8aaf7ee5-7b73-4484-86f7-dbe6075a22a0",
   "metadata": {},
   "outputs": [
    {
     "name": "stdout",
     "output_type": "stream",
     "text": [
      "Bingo says:Bark!\n"
     ]
    }
   ],
   "source": [
    "another_dog.speak()"
   ]
  },
  {
   "cell_type": "code",
   "execution_count": 63,
   "id": "f7497ca9-d4ed-4484-9ca9-a207928e2a76",
   "metadata": {},
   "outputs": [
    {
     "name": "stdout",
     "output_type": "stream",
     "text": [
      "Rover says:Bark!\n"
     ]
    }
   ],
   "source": [
    "my_dog.speak()"
   ]
  },
  {
   "cell_type": "code",
   "execution_count": null,
   "id": "7d895263-8032-4f63-ac8b-b69ed0b0fe90",
   "metadata": {},
   "outputs": [],
   "source": []
  }
 ],
 "metadata": {
  "kernelspec": {
   "display_name": "Python 3 (ipykernel)",
   "language": "python",
   "name": "python3"
  },
  "language_info": {
   "codemirror_mode": {
    "name": "ipython",
    "version": 3
   },
   "file_extension": ".py",
   "mimetype": "text/x-python",
   "name": "python",
   "nbconvert_exporter": "python",
   "pygments_lexer": "ipython3",
   "version": "3.13.2"
  },
  "vscode": {
   "interpreter": {
    "hash": "949777d72b0d2535278d3dc13498b2535136f6dfe0678499012e853ee9abcab1"
   }
  }
 },
 "nbformat": 4,
 "nbformat_minor": 5
}
